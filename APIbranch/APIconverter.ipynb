{
 "cells": [
  {
   "cell_type": "code",
   "execution_count": 3,
   "metadata": {
    "collapsed": false
   },
   "outputs": [
    {
     "data": {
      "text/plain": [
       "<cloudconvert.process.Process at 0x88af898>"
      ]
     },
     "execution_count": 3,
     "metadata": {},
     "output_type": "execute_result"
    }
   ],
   "source": [
    "import cloudconvert\n",
    "api = cloudconvert.Api('Jro5GInflhI4o5YOSkQYvp2qkVzMeqRChO0mGW3UHEmXh6mxjQEnYolDH8orvzmO')\n",
    " \n",
    "process = api.convert({\n",
    "    \"inputformat\": \"pdf\",\n",
    "    \"outputformat\": \"html\",\n",
    "    \"input\": \"upload\",\n",
    "    \"file\": open('Factures per processar/Listado de Facturas.pdf', 'rb')\n",
    "})\n",
    "process.wait()\n",
    "process.download('Factures processades/factura1.html')"
   ]
  }
 ],
 "metadata": {
  "kernelspec": {
   "display_name": "Python 3",
   "language": "python",
   "name": "python3"
  },
  "language_info": {
   "codemirror_mode": {
    "name": "ipython",
    "version": 3
   },
   "file_extension": ".py",
   "mimetype": "text/x-python",
   "name": "python",
   "nbconvert_exporter": "python",
   "pygments_lexer": "ipython3",
   "version": "3.6.0"
  }
 },
 "nbformat": 4,
 "nbformat_minor": 2
}
