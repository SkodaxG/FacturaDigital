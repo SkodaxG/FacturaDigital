{
 "cells": [
  {
   "cell_type": "code",
   "execution_count": 20,
   "metadata": {
    "collapsed": false
   },
   "outputs": [
    {
     "name": "stdout",
     "output_type": "stream",
     "text": [
      "Factura digital crea de de: Listado de Facturas.pdf\n"
     ]
    }
   ],
   "source": [
    "from subprocess import call\n",
    "from os import walk, remove\n",
    "\n",
    "#Guardar noms de tots els fitxers\n",
    "f = []\n",
    "for (dirpath, dirnames, filenames) in walk(\"./Factures per processar\"):\n",
    "    f.extend(filenames)\n",
    "    break\n",
    "\n",
    "#Filtrar els arxius pdf\n",
    "pdfNames = []\n",
    "for file in f:\n",
    "    if file[-4:] == '.pdf':\n",
    "        pdfNames.append(file)\n",
    "        \n",
    "#Crear arxius pdf\n",
    "for pdf in pdfNames:\n",
    "    inFile = \"./Factures per processar/\" + pdf\n",
    "    outFile = \"./Factures processades/\" + pdf\n",
    "    r = call([\"./cpdf.exe\", \"-stamp-under\", \"Plantilles/plantilla.pdf\", inFile, \"-o\", outFile])\n",
    "    \n",
    "    if r == 0:\n",
    "        #Esborrar el fitxer\n",
    "        remove(inFile)\n",
    "        \n",
    "        #Misatge a l'usuari\n",
    "        print(\"Factura digital crea de de: \"+pdf)\n",
    "    else:\n",
    "        print(\"No s'ha pogut crear la factura digital de: \" + pdf)"
   ]
  },
  {
   "cell_type": "code",
   "execution_count": 19,
   "metadata": {
    "collapsed": false
   },
   "outputs": [
    {
     "name": "stdout",
     "output_type": "stream",
     "text": [
      "Help on built-in function remove in module nt:\n",
      "\n",
      "remove(path, *, dir_fd=None)\n",
      "    Remove a file (same as unlink()).\n",
      "    \n",
      "    If dir_fd is not None, it should be a file descriptor open to a directory,\n",
      "      and path should be relative; path will then be relative to that directory.\n",
      "    dir_fd may not be implemented on your platform.\n",
      "      If it is unavailable, using it will raise a NotImplementedError.\n",
      "\n"
     ]
    }
   ],
   "source": [
    "help(remove)"
   ]
  },
  {
   "cell_type": "code",
   "execution_count": null,
   "metadata": {
    "collapsed": true
   },
   "outputs": [],
   "source": [
    "./cpdf.exe -stamp-under plantilla.pdf 'Listado de Facturas.pdf' -o out.pdf"
   ]
  }
 ],
 "metadata": {
  "kernelspec": {
   "display_name": "Python 3",
   "language": "python",
   "name": "python3"
  },
  "language_info": {
   "codemirror_mode": {
    "name": "ipython",
    "version": 3
   },
   "file_extension": ".py",
   "mimetype": "text/x-python",
   "name": "python",
   "nbconvert_exporter": "python",
   "pygments_lexer": "ipython3",
   "version": "3.6.0"
  }
 },
 "nbformat": 4,
 "nbformat_minor": 2
}
